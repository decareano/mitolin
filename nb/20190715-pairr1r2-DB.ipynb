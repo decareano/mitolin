{
 "cells": [
  {
   "cell_type": "markdown",
   "metadata": {},
   "source": [
    "## This notebook does the following\n",
    "- reads in two files containing filenames \n",
    "- examines the lists of filenames to see which ones don't have a matching r1-r2 pair\n",
    "- outputs new files containing only filenames which have matching pairs"
   ]
  },
  {
   "cell_type": "markdown",
   "metadata": {},
   "source": [
    "Navigate to directory with r1_ and r2_ lists"
   ]
  },
  {
   "cell_type": "code",
   "execution_count": 6,
   "metadata": {},
   "outputs": [
    {
     "name": "stdout",
     "output_type": "stream",
     "text": [
      "/Users/drb/Documents/work/lawson_lab/deepcelllineage/mitolin/data/gen/nguyen_nc_2018/20190715-pairr1r2-renamed/ind1\n"
     ]
    }
   ],
   "source": [
    "# this is should be the location on your laptop\n",
    "%cd ~/Documents/work/lawson_lab/deepcelllineage/mitolin/data/gen/nguyen_nc_2018/20190715-pairr1r2-renamed/ind1/"
   ]
  },
  {
   "cell_type": "code",
   "execution_count": 7,
   "metadata": {},
   "outputs": [
    {
     "name": "stdout",
     "output_type": "stream",
     "text": [
      "r1_list.txt  r2_list.txt\r\n"
     ]
    }
   ],
   "source": [
    "ls"
   ]
  },
  {
   "cell_type": "code",
   "execution_count": 8,
   "metadata": {
    "scrolled": true
   },
   "outputs": [
    {
     "name": "stdout",
     "output_type": "stream",
     "text": [
      "L001-A02-CGTACTAG-GCGTAAGA-R1.fastq.gz\r\n",
      "L001-A04-TCCTGAGC-GCGTAAGA-R1.fastq.gz\r\n",
      "L001-A06-TAGGCATG-GCGTAAGA-R1.fastq.gz\r\n",
      "L001-A09-GCTACGCT-GCGTAAGA-R1.fastq.gz\r\n",
      "L001-A12-GTAGAGGA-GCGTAAGA-R1.fastq.gz\r\n",
      "L001-B01-TAAGGCGA-CTCTCTAT-R1.fastq.gz\r\n",
      "L001-B02-CGTACTAG-CTCTCTAT-R1.fastq.gz\r\n",
      "L001-B03-AGGCAGAA-CTCTCTAT-R1.fastq.gz\r\n",
      "L001-B07-CTCTCTAC-CTCTCTAT-R1.fastq.gz\r\n",
      "L001-C03-AGGCAGAA-TATCCTCT-R1.fastq.gz\r\n",
      "L001-C06-TAGGCATG-TATCCTCT-R1.fastq.gz\r\n",
      "L001-C07-CTCTCTAC-TATCCTCT-R1.fastq.gz\r\n",
      "L001-C10-CGAGGCTG-TATCCTCT-R1.fastq.gz\r\n",
      "L001-C12-GTAGAGGA-TATCCTCT-R1.fastq.gz\r\n",
      "L001-D01-TAAGGCGA-AGAGTAGA-R1.fastq.gz\r\n",
      "L001-D05-GGACTCCT-AGAGTAGA-R1.fastq.gz\r\n",
      "L001-D06-TAGGCATG-AGAGTAGA-R1.fastq.gz\r\n",
      "L001-D07-CTCTCTAC-AGAGTAGA-R1.fastq.gz\r\n",
      "L001-D09-GCTACGCT-AGAGTAGA-R1.fastq.gz\r\n",
      "L001-E02-CGTACTAG-GTAAGGAG-R1.fastq.gz\r\n",
      "L001-E03-AGGCAGAA-GTAAGGAG-R1.fastq.gz\r\n",
      "L001-E07-CTCTCTAC-GTAAGGAG-R1.fastq.gz\r\n",
      "L001-F01-TAAGGCGA-ACTGCATA-R1.fastq.gz\r\n",
      "L001-F02-CGTACTAG-ACTGCATA-R1.fastq.gz\r\n",
      "L001-F05-GGACTCCT-ACTGCATA-R1.fastq.gz\r\n",
      "L001-F07-CTCTCTAC-ACTGCATA-R1.fastq.gz\r\n",
      "L001-F09-GCTACGCT-ACTGCATA-R1.fastq.gz\r\n",
      "L001-G06-TAGGCATG-AAGGAGTA-R1.fastq.gz\r\n",
      "L001-G07-CTCTCTAC-AAGGAGTA-R1.fastq.gz\r\n",
      "L001-G08-CAGAGAGG-AAGGAGTA-R1.fastq.gz\r\n",
      "L001-H01-TAAGGCGA-CTAAGCCT-R1.fastq.gz\r\n",
      "L001-H02-CGTACTAG-CTAAGCCT-R1.fastq.gz\r\n",
      "L001-H03-AGGCAGAA-CTAAGCCT-R1.fastq.gz\r\n",
      "L001-H07-CTCTCTAC-CTAAGCCT-R1.fastq.gz\r\n",
      "L001-H09-GCTACGCT-CTAAGCCT-R1.fastq.gz\r\n",
      "L002-A01-TAAGGCGA-GCGTAAGA-R1.fastq.gz\r\n",
      "L002-A02-CGTACTAG-GCGTAAGA-R1.fastq.gz\r\n",
      "L002-A03-AGGCAGAA-GCGTAAGA-R1.fastq.gz\r\n",
      "L002-A04-TCCTGAGC-GCGTAAGA-R1.fastq.gz\r\n",
      "L002-A05-GGACTCCT-GCGTAAGA-R1.fastq.gz\r\n",
      "L002-A06-TAGGCATG-GCGTAAGA-R1.fastq.gz\r\n",
      "L002-A07-CTCTCTAC-GCGTAAGA-R1.fastq.gz\r\n",
      "L002-A08-CAGAGAGG-GCGTAAGA-R1.fastq.gz\r\n",
      "L002-A10-CGAGGCTG-GCGTAAGA-R1.fastq.gz\r\n",
      "L002-A11-AAGAGGCA-GCGTAAGA-R1.fastq.gz\r\n",
      "L002-A12-GTAGAGGA-GCGTAAGA-R1.fastq.gz\r\n",
      "L002-B01-TAAGGCGA-CTCTCTAT-R1.fastq.gz\r\n",
      "L002-B02-CGTACTAG-CTCTCTAT-R1.fastq.gz\r\n",
      "L002-B03-AGGCAGAA-CTCTCTAT-R1.fastq.gz\r\n",
      "L002-B04-TCCTGAGC-CTCTCTAT-R1.fastq.gz\r\n",
      "L002-B05-GGACTCCT-CTCTCTAT-R1.fastq.gz\r\n",
      "L002-B06-TAGGCATG-CTCTCTAT-R1.fastq.gz\r\n",
      "L002-B07-CTCTCTAC-CTCTCTAT-R1.fastq.gz\r\n",
      "L002-B10-CGAGGCTG-CTCTCTAT-R1.fastq.gz\r\n",
      "L002-B11-AAGAGGCA-CTCTCTAT-R1.fastq.gz\r\n",
      "L002-B12-GTAGAGGA-CTCTCTAT-R1.fastq.gz\r\n",
      "L002-C01-TAAGGCGA-TATCCTCT-R1.fastq.gz\r\n",
      "L002-C04-TCCTGAGC-TATCCTCT-R1.fastq.gz\r\n",
      "L002-C05-GGACTCCT-TATCCTCT-R1.fastq.gz\r\n",
      "L002-C06-TAGGCATG-TATCCTCT-R1.fastq.gz\r\n",
      "L002-C07-CTCTCTAC-TATCCTCT-R1.fastq.gz\r\n",
      "L002-C08-CAGAGAGG-TATCCTCT-R1.fastq.gz\r\n",
      "L002-C11-AAGAGGCA-TATCCTCT-R1.fastq.gz\r\n",
      "L002-C12-GTAGAGGA-TATCCTCT-R1.fastq.gz\r\n",
      "L002-D01-TAAGGCGA-AGAGTAGA-R1.fastq.gz\r\n",
      "L002-D03-AGGCAGAA-AGAGTAGA-R1.fastq.gz\r\n",
      "L002-D04-TCCTGAGC-AGAGTAGA-R1.fastq.gz\r\n",
      "L002-D05-GGACTCCT-AGAGTAGA-R1.fastq.gz\r\n",
      "L002-D06-TAGGCATG-AGAGTAGA-R1.fastq.gz\r\n",
      "L002-D07-CTCTCTAC-AGAGTAGA-R1.fastq.gz\r\n",
      "L002-D08-CAGAGAGG-AGAGTAGA-R1.fastq.gz\r\n",
      "L002-D10-CGAGGCTG-AGAGTAGA-R1.fastq.gz\r\n",
      "L002-D11-AAGAGGCA-AGAGTAGA-R1.fastq.gz\r\n",
      "L002-E01-TAAGGCGA-GTAAGGAG-R1.fastq.gz\r\n",
      "L002-E02-CGTACTAG-GTAAGGAG-R1.fastq.gz\r\n",
      "L002-E03-AGGCAGAA-GTAAGGAG-R1.fastq.gz\r\n",
      "L002-E05-GGACTCCT-GTAAGGAG-R1.fastq.gz\r\n",
      "L002-E06-TAGGCATG-GTAAGGAG-R1.fastq.gz\r\n",
      "L002-E07-CTCTCTAC-GTAAGGAG-R1.fastq.gz\r\n",
      "L002-E08-CAGAGAGG-GTAAGGAG-R1.fastq.gz\r\n",
      "L002-E10-CGAGGCTG-GTAAGGAG-R1.fastq.gz\r\n",
      "L002-E11-AAGAGGCA-GTAAGGAG-R1.fastq.gz\r\n",
      "L002-E12-GTAGAGGA-GTAAGGAG-R1.fastq.gz\r\n",
      "L002-F01-TAAGGCGA-ACTGCATA-R1.fastq.gz\r\n",
      "L002-F02-CGTACTAG-ACTGCATA-R1.fastq.gz\r\n",
      "L002-F04-TCCTGAGC-ACTGCATA-R1.fastq.gz\r\n",
      "L002-F06-TAGGCATG-ACTGCATA-R1.fastq.gz\r\n",
      "L002-F08-CAGAGAGG-ACTGCATA-R1.fastq.gz\r\n",
      "L002-F09-GCTACGCT-ACTGCATA-R1.fastq.gz\r\n",
      "L002-F10-CGAGGCTG-ACTGCATA-R1.fastq.gz\r\n",
      "L002-F12-GTAGAGGA-ACTGCATA-R1.fastq.gz\r\n",
      "L002-G01-TAAGGCGA-AAGGAGTA-R1.fastq.gz\r\n",
      "L002-G02-CGTACTAG-AAGGAGTA-R1.fastq.gz\r\n",
      "L002-G03-AGGCAGAA-AAGGAGTA-R1.fastq.gz\r\n",
      "L002-G04-TCCTGAGC-AAGGAGTA-R1.fastq.gz\r\n",
      "L002-G05-GGACTCCT-AAGGAGTA-R1.fastq.gz\r\n",
      "L002-G06-TAGGCATG-AAGGAGTA-R1.fastq.gz\r\n",
      "L002-G10-CGAGGCTG-AAGGAGTA-R1.fastq.gz\r\n",
      "L002-G11-AAGAGGCA-AAGGAGTA-R1.fastq.gz\r\n",
      "L002-H01-TAAGGCGA-CTAAGCCT-R1.fastq.gz\r\n",
      "L002-H04-TCCTGAGC-CTAAGCCT-R1.fastq.gz\r\n",
      "L002-H05-GGACTCCT-CTAAGCCT-R1.fastq.gz\r\n",
      "L002-H07-CTCTCTAC-CTAAGCCT-R1.fastq.gz\r\n",
      "L002-H10-CGAGGCTG-CTAAGCCT-R1.fastq.gz\r\n",
      "L002-H11-AAGAGGCA-CTAAGCCT-R1.fastq.gz\r\n",
      "L002-H12-GTAGAGGA-CTAAGCCT-R1.fastq.gz\r\n"
     ]
    }
   ],
   "source": [
    "!cat r1_list.txt"
   ]
  },
  {
   "cell_type": "code",
   "execution_count": 9,
   "metadata": {},
   "outputs": [],
   "source": [
    "# create variable for input filenames\n",
    "file1 = 'r1_list.txt'\n",
    "file2 = 'r2_list.txt'\n",
    "# create a variable for parts that are different between R1 & R2 filenames\n",
    "# so that you can remove it and compare like with like\n",
    "suffix1 = '-R1.fastq.gz'\n",
    "suffix2 = '-R2.fastq.gz'"
   ]
  },
  {
   "cell_type": "markdown",
   "metadata": {},
   "source": [
    "Read each file into a set object."
   ]
  },
  {
   "cell_type": "code",
   "execution_count": 10,
   "metadata": {},
   "outputs": [],
   "source": [
    "r1_set = set()\n",
    "with open(file1) as r1:\n",
    "    for line in r1:\n",
    "        r1_set.add(line)"
   ]
  },
  {
   "cell_type": "code",
   "execution_count": 11,
   "metadata": {
    "collapsed": true
   },
   "outputs": [
    {
     "data": {
      "text/plain": [
       "{'L001-A02-CGTACTAG-GCGTAAGA-R1.fastq.gz\\n',\n",
       " 'L001-A04-TCCTGAGC-GCGTAAGA-R1.fastq.gz\\n',\n",
       " 'L001-A06-TAGGCATG-GCGTAAGA-R1.fastq.gz\\n',\n",
       " 'L001-A09-GCTACGCT-GCGTAAGA-R1.fastq.gz\\n',\n",
       " 'L001-A12-GTAGAGGA-GCGTAAGA-R1.fastq.gz\\n',\n",
       " 'L001-B01-TAAGGCGA-CTCTCTAT-R1.fastq.gz\\n',\n",
       " 'L001-B02-CGTACTAG-CTCTCTAT-R1.fastq.gz\\n',\n",
       " 'L001-B03-AGGCAGAA-CTCTCTAT-R1.fastq.gz\\n',\n",
       " 'L001-B07-CTCTCTAC-CTCTCTAT-R1.fastq.gz\\n',\n",
       " 'L001-C03-AGGCAGAA-TATCCTCT-R1.fastq.gz\\n',\n",
       " 'L001-C06-TAGGCATG-TATCCTCT-R1.fastq.gz\\n',\n",
       " 'L001-C07-CTCTCTAC-TATCCTCT-R1.fastq.gz\\n',\n",
       " 'L001-C10-CGAGGCTG-TATCCTCT-R1.fastq.gz\\n',\n",
       " 'L001-C12-GTAGAGGA-TATCCTCT-R1.fastq.gz\\n',\n",
       " 'L001-D01-TAAGGCGA-AGAGTAGA-R1.fastq.gz\\n',\n",
       " 'L001-D05-GGACTCCT-AGAGTAGA-R1.fastq.gz\\n',\n",
       " 'L001-D06-TAGGCATG-AGAGTAGA-R1.fastq.gz\\n',\n",
       " 'L001-D07-CTCTCTAC-AGAGTAGA-R1.fastq.gz\\n',\n",
       " 'L001-D09-GCTACGCT-AGAGTAGA-R1.fastq.gz\\n',\n",
       " 'L001-E02-CGTACTAG-GTAAGGAG-R1.fastq.gz\\n',\n",
       " 'L001-E03-AGGCAGAA-GTAAGGAG-R1.fastq.gz\\n',\n",
       " 'L001-E07-CTCTCTAC-GTAAGGAG-R1.fastq.gz\\n',\n",
       " 'L001-F01-TAAGGCGA-ACTGCATA-R1.fastq.gz\\n',\n",
       " 'L001-F02-CGTACTAG-ACTGCATA-R1.fastq.gz\\n',\n",
       " 'L001-F05-GGACTCCT-ACTGCATA-R1.fastq.gz\\n',\n",
       " 'L001-F07-CTCTCTAC-ACTGCATA-R1.fastq.gz\\n',\n",
       " 'L001-F09-GCTACGCT-ACTGCATA-R1.fastq.gz\\n',\n",
       " 'L001-G06-TAGGCATG-AAGGAGTA-R1.fastq.gz\\n',\n",
       " 'L001-G07-CTCTCTAC-AAGGAGTA-R1.fastq.gz\\n',\n",
       " 'L001-G08-CAGAGAGG-AAGGAGTA-R1.fastq.gz\\n',\n",
       " 'L001-H01-TAAGGCGA-CTAAGCCT-R1.fastq.gz\\n',\n",
       " 'L001-H02-CGTACTAG-CTAAGCCT-R1.fastq.gz\\n',\n",
       " 'L001-H03-AGGCAGAA-CTAAGCCT-R1.fastq.gz\\n',\n",
       " 'L001-H07-CTCTCTAC-CTAAGCCT-R1.fastq.gz\\n',\n",
       " 'L001-H09-GCTACGCT-CTAAGCCT-R1.fastq.gz\\n',\n",
       " 'L002-A01-TAAGGCGA-GCGTAAGA-R1.fastq.gz\\n',\n",
       " 'L002-A02-CGTACTAG-GCGTAAGA-R1.fastq.gz\\n',\n",
       " 'L002-A03-AGGCAGAA-GCGTAAGA-R1.fastq.gz\\n',\n",
       " 'L002-A04-TCCTGAGC-GCGTAAGA-R1.fastq.gz\\n',\n",
       " 'L002-A05-GGACTCCT-GCGTAAGA-R1.fastq.gz\\n',\n",
       " 'L002-A06-TAGGCATG-GCGTAAGA-R1.fastq.gz\\n',\n",
       " 'L002-A07-CTCTCTAC-GCGTAAGA-R1.fastq.gz\\n',\n",
       " 'L002-A08-CAGAGAGG-GCGTAAGA-R1.fastq.gz\\n',\n",
       " 'L002-A10-CGAGGCTG-GCGTAAGA-R1.fastq.gz\\n',\n",
       " 'L002-A11-AAGAGGCA-GCGTAAGA-R1.fastq.gz\\n',\n",
       " 'L002-A12-GTAGAGGA-GCGTAAGA-R1.fastq.gz\\n',\n",
       " 'L002-B01-TAAGGCGA-CTCTCTAT-R1.fastq.gz\\n',\n",
       " 'L002-B02-CGTACTAG-CTCTCTAT-R1.fastq.gz\\n',\n",
       " 'L002-B03-AGGCAGAA-CTCTCTAT-R1.fastq.gz\\n',\n",
       " 'L002-B04-TCCTGAGC-CTCTCTAT-R1.fastq.gz\\n',\n",
       " 'L002-B05-GGACTCCT-CTCTCTAT-R1.fastq.gz\\n',\n",
       " 'L002-B06-TAGGCATG-CTCTCTAT-R1.fastq.gz\\n',\n",
       " 'L002-B07-CTCTCTAC-CTCTCTAT-R1.fastq.gz\\n',\n",
       " 'L002-B10-CGAGGCTG-CTCTCTAT-R1.fastq.gz\\n',\n",
       " 'L002-B11-AAGAGGCA-CTCTCTAT-R1.fastq.gz\\n',\n",
       " 'L002-B12-GTAGAGGA-CTCTCTAT-R1.fastq.gz\\n',\n",
       " 'L002-C01-TAAGGCGA-TATCCTCT-R1.fastq.gz\\n',\n",
       " 'L002-C04-TCCTGAGC-TATCCTCT-R1.fastq.gz\\n',\n",
       " 'L002-C05-GGACTCCT-TATCCTCT-R1.fastq.gz\\n',\n",
       " 'L002-C06-TAGGCATG-TATCCTCT-R1.fastq.gz\\n',\n",
       " 'L002-C07-CTCTCTAC-TATCCTCT-R1.fastq.gz\\n',\n",
       " 'L002-C08-CAGAGAGG-TATCCTCT-R1.fastq.gz\\n',\n",
       " 'L002-C11-AAGAGGCA-TATCCTCT-R1.fastq.gz\\n',\n",
       " 'L002-C12-GTAGAGGA-TATCCTCT-R1.fastq.gz\\n',\n",
       " 'L002-D01-TAAGGCGA-AGAGTAGA-R1.fastq.gz\\n',\n",
       " 'L002-D03-AGGCAGAA-AGAGTAGA-R1.fastq.gz\\n',\n",
       " 'L002-D04-TCCTGAGC-AGAGTAGA-R1.fastq.gz\\n',\n",
       " 'L002-D05-GGACTCCT-AGAGTAGA-R1.fastq.gz\\n',\n",
       " 'L002-D06-TAGGCATG-AGAGTAGA-R1.fastq.gz\\n',\n",
       " 'L002-D07-CTCTCTAC-AGAGTAGA-R1.fastq.gz\\n',\n",
       " 'L002-D08-CAGAGAGG-AGAGTAGA-R1.fastq.gz\\n',\n",
       " 'L002-D10-CGAGGCTG-AGAGTAGA-R1.fastq.gz\\n',\n",
       " 'L002-D11-AAGAGGCA-AGAGTAGA-R1.fastq.gz\\n',\n",
       " 'L002-E01-TAAGGCGA-GTAAGGAG-R1.fastq.gz\\n',\n",
       " 'L002-E02-CGTACTAG-GTAAGGAG-R1.fastq.gz\\n',\n",
       " 'L002-E03-AGGCAGAA-GTAAGGAG-R1.fastq.gz\\n',\n",
       " 'L002-E05-GGACTCCT-GTAAGGAG-R1.fastq.gz\\n',\n",
       " 'L002-E06-TAGGCATG-GTAAGGAG-R1.fastq.gz\\n',\n",
       " 'L002-E07-CTCTCTAC-GTAAGGAG-R1.fastq.gz\\n',\n",
       " 'L002-E08-CAGAGAGG-GTAAGGAG-R1.fastq.gz\\n',\n",
       " 'L002-E10-CGAGGCTG-GTAAGGAG-R1.fastq.gz\\n',\n",
       " 'L002-E11-AAGAGGCA-GTAAGGAG-R1.fastq.gz\\n',\n",
       " 'L002-E12-GTAGAGGA-GTAAGGAG-R1.fastq.gz\\n',\n",
       " 'L002-F01-TAAGGCGA-ACTGCATA-R1.fastq.gz\\n',\n",
       " 'L002-F02-CGTACTAG-ACTGCATA-R1.fastq.gz\\n',\n",
       " 'L002-F04-TCCTGAGC-ACTGCATA-R1.fastq.gz\\n',\n",
       " 'L002-F06-TAGGCATG-ACTGCATA-R1.fastq.gz\\n',\n",
       " 'L002-F08-CAGAGAGG-ACTGCATA-R1.fastq.gz\\n',\n",
       " 'L002-F09-GCTACGCT-ACTGCATA-R1.fastq.gz\\n',\n",
       " 'L002-F10-CGAGGCTG-ACTGCATA-R1.fastq.gz\\n',\n",
       " 'L002-F12-GTAGAGGA-ACTGCATA-R1.fastq.gz\\n',\n",
       " 'L002-G01-TAAGGCGA-AAGGAGTA-R1.fastq.gz\\n',\n",
       " 'L002-G02-CGTACTAG-AAGGAGTA-R1.fastq.gz\\n',\n",
       " 'L002-G03-AGGCAGAA-AAGGAGTA-R1.fastq.gz\\n',\n",
       " 'L002-G04-TCCTGAGC-AAGGAGTA-R1.fastq.gz\\n',\n",
       " 'L002-G05-GGACTCCT-AAGGAGTA-R1.fastq.gz\\n',\n",
       " 'L002-G06-TAGGCATG-AAGGAGTA-R1.fastq.gz\\n',\n",
       " 'L002-G10-CGAGGCTG-AAGGAGTA-R1.fastq.gz\\n',\n",
       " 'L002-G11-AAGAGGCA-AAGGAGTA-R1.fastq.gz\\n',\n",
       " 'L002-H01-TAAGGCGA-CTAAGCCT-R1.fastq.gz\\n',\n",
       " 'L002-H04-TCCTGAGC-CTAAGCCT-R1.fastq.gz\\n',\n",
       " 'L002-H05-GGACTCCT-CTAAGCCT-R1.fastq.gz\\n',\n",
       " 'L002-H07-CTCTCTAC-CTAAGCCT-R1.fastq.gz\\n',\n",
       " 'L002-H10-CGAGGCTG-CTAAGCCT-R1.fastq.gz\\n',\n",
       " 'L002-H11-AAGAGGCA-CTAAGCCT-R1.fastq.gz\\n',\n",
       " 'L002-H12-GTAGAGGA-CTAAGCCT-R1.fastq.gz\\n'}"
      ]
     },
     "execution_count": 11,
     "metadata": {},
     "output_type": "execute_result"
    }
   ],
   "source": [
    "r1_set"
   ]
  },
  {
   "cell_type": "markdown",
   "metadata": {},
   "source": [
    "Slice filename before '-R1' or '-R2' so that filenames will be =="
   ]
  },
  {
   "cell_type": "code",
   "execution_count": 12,
   "metadata": {},
   "outputs": [],
   "source": [
    "r1_set = set()\n",
    "with open(file1) as r1:\n",
    "    for line in r1:\n",
    "        r1_set.add(line[:line.find('-R1')]) \n",
    "\n",
    "r2_set = set()\n",
    "with open(file2) as r2:\n",
    "    for line in r2:\n",
    "        r2_set.add(line[:line.find('-R2')])"
   ]
  },
  {
   "cell_type": "code",
   "execution_count": 13,
   "metadata": {
    "collapsed": true
   },
   "outputs": [
    {
     "data": {
      "text/plain": [
       "{'L001-A02-CGTACTAG-GCGTAAGA',\n",
       " 'L001-A04-TCCTGAGC-GCGTAAGA',\n",
       " 'L001-A06-TAGGCATG-GCGTAAGA',\n",
       " 'L001-A09-GCTACGCT-GCGTAAGA',\n",
       " 'L001-A12-GTAGAGGA-GCGTAAGA',\n",
       " 'L001-B01-TAAGGCGA-CTCTCTAT',\n",
       " 'L001-B02-CGTACTAG-CTCTCTAT',\n",
       " 'L001-B03-AGGCAGAA-CTCTCTAT',\n",
       " 'L001-B07-CTCTCTAC-CTCTCTAT',\n",
       " 'L001-C03-AGGCAGAA-TATCCTCT',\n",
       " 'L001-C06-TAGGCATG-TATCCTCT',\n",
       " 'L001-C07-CTCTCTAC-TATCCTCT',\n",
       " 'L001-C10-CGAGGCTG-TATCCTCT',\n",
       " 'L001-C12-GTAGAGGA-TATCCTCT',\n",
       " 'L001-D01-TAAGGCGA-AGAGTAGA',\n",
       " 'L001-D05-GGACTCCT-AGAGTAGA',\n",
       " 'L001-D06-TAGGCATG-AGAGTAGA',\n",
       " 'L001-D07-CTCTCTAC-AGAGTAGA',\n",
       " 'L001-D09-GCTACGCT-AGAGTAGA',\n",
       " 'L001-E02-CGTACTAG-GTAAGGAG',\n",
       " 'L001-E03-AGGCAGAA-GTAAGGAG',\n",
       " 'L001-E07-CTCTCTAC-GTAAGGAG',\n",
       " 'L001-F01-TAAGGCGA-ACTGCATA',\n",
       " 'L001-F02-CGTACTAG-ACTGCATA',\n",
       " 'L001-F05-GGACTCCT-ACTGCATA',\n",
       " 'L001-F07-CTCTCTAC-ACTGCATA',\n",
       " 'L001-F09-GCTACGCT-ACTGCATA',\n",
       " 'L001-G06-TAGGCATG-AAGGAGTA',\n",
       " 'L001-G07-CTCTCTAC-AAGGAGTA',\n",
       " 'L001-G08-CAGAGAGG-AAGGAGTA',\n",
       " 'L001-H01-TAAGGCGA-CTAAGCCT',\n",
       " 'L001-H02-CGTACTAG-CTAAGCCT',\n",
       " 'L001-H03-AGGCAGAA-CTAAGCCT',\n",
       " 'L001-H07-CTCTCTAC-CTAAGCCT',\n",
       " 'L001-H09-GCTACGCT-CTAAGCCT',\n",
       " 'L002-A01-TAAGGCGA-GCGTAAGA',\n",
       " 'L002-A02-CGTACTAG-GCGTAAGA',\n",
       " 'L002-A03-AGGCAGAA-GCGTAAGA',\n",
       " 'L002-A04-TCCTGAGC-GCGTAAGA',\n",
       " 'L002-A05-GGACTCCT-GCGTAAGA',\n",
       " 'L002-A06-TAGGCATG-GCGTAAGA',\n",
       " 'L002-A07-CTCTCTAC-GCGTAAGA',\n",
       " 'L002-A08-CAGAGAGG-GCGTAAGA',\n",
       " 'L002-A10-CGAGGCTG-GCGTAAGA',\n",
       " 'L002-A11-AAGAGGCA-GCGTAAGA',\n",
       " 'L002-A12-GTAGAGGA-GCGTAAGA',\n",
       " 'L002-B01-TAAGGCGA-CTCTCTAT',\n",
       " 'L002-B02-CGTACTAG-CTCTCTAT',\n",
       " 'L002-B03-AGGCAGAA-CTCTCTAT',\n",
       " 'L002-B04-TCCTGAGC-CTCTCTAT',\n",
       " 'L002-B05-GGACTCCT-CTCTCTAT',\n",
       " 'L002-B06-TAGGCATG-CTCTCTAT',\n",
       " 'L002-B07-CTCTCTAC-CTCTCTAT',\n",
       " 'L002-B10-CGAGGCTG-CTCTCTAT',\n",
       " 'L002-B11-AAGAGGCA-CTCTCTAT',\n",
       " 'L002-B12-GTAGAGGA-CTCTCTAT',\n",
       " 'L002-C01-TAAGGCGA-TATCCTCT',\n",
       " 'L002-C04-TCCTGAGC-TATCCTCT',\n",
       " 'L002-C05-GGACTCCT-TATCCTCT',\n",
       " 'L002-C06-TAGGCATG-TATCCTCT',\n",
       " 'L002-C07-CTCTCTAC-TATCCTCT',\n",
       " 'L002-C08-CAGAGAGG-TATCCTCT',\n",
       " 'L002-C11-AAGAGGCA-TATCCTCT',\n",
       " 'L002-C12-GTAGAGGA-TATCCTCT',\n",
       " 'L002-D01-TAAGGCGA-AGAGTAGA',\n",
       " 'L002-D03-AGGCAGAA-AGAGTAGA',\n",
       " 'L002-D04-TCCTGAGC-AGAGTAGA',\n",
       " 'L002-D05-GGACTCCT-AGAGTAGA',\n",
       " 'L002-D06-TAGGCATG-AGAGTAGA',\n",
       " 'L002-D07-CTCTCTAC-AGAGTAGA',\n",
       " 'L002-D08-CAGAGAGG-AGAGTAGA',\n",
       " 'L002-D10-CGAGGCTG-AGAGTAGA',\n",
       " 'L002-D11-AAGAGGCA-AGAGTAGA',\n",
       " 'L002-E01-TAAGGCGA-GTAAGGAG',\n",
       " 'L002-E02-CGTACTAG-GTAAGGAG',\n",
       " 'L002-E03-AGGCAGAA-GTAAGGAG',\n",
       " 'L002-E05-GGACTCCT-GTAAGGAG',\n",
       " 'L002-E06-TAGGCATG-GTAAGGAG',\n",
       " 'L002-E07-CTCTCTAC-GTAAGGAG',\n",
       " 'L002-E08-CAGAGAGG-GTAAGGAG',\n",
       " 'L002-E10-CGAGGCTG-GTAAGGAG',\n",
       " 'L002-E11-AAGAGGCA-GTAAGGAG',\n",
       " 'L002-E12-GTAGAGGA-GTAAGGAG',\n",
       " 'L002-F01-TAAGGCGA-ACTGCATA',\n",
       " 'L002-F02-CGTACTAG-ACTGCATA',\n",
       " 'L002-F04-TCCTGAGC-ACTGCATA',\n",
       " 'L002-F06-TAGGCATG-ACTGCATA',\n",
       " 'L002-F08-CAGAGAGG-ACTGCATA',\n",
       " 'L002-F09-GCTACGCT-ACTGCATA',\n",
       " 'L002-F10-CGAGGCTG-ACTGCATA',\n",
       " 'L002-F12-GTAGAGGA-ACTGCATA',\n",
       " 'L002-G01-TAAGGCGA-AAGGAGTA',\n",
       " 'L002-G02-CGTACTAG-AAGGAGTA',\n",
       " 'L002-G03-AGGCAGAA-AAGGAGTA',\n",
       " 'L002-G04-TCCTGAGC-AAGGAGTA',\n",
       " 'L002-G05-GGACTCCT-AAGGAGTA',\n",
       " 'L002-G06-TAGGCATG-AAGGAGTA',\n",
       " 'L002-G10-CGAGGCTG-AAGGAGTA',\n",
       " 'L002-G11-AAGAGGCA-AAGGAGTA',\n",
       " 'L002-H01-TAAGGCGA-CTAAGCCT',\n",
       " 'L002-H04-TCCTGAGC-CTAAGCCT',\n",
       " 'L002-H05-GGACTCCT-CTAAGCCT',\n",
       " 'L002-H07-CTCTCTAC-CTAAGCCT',\n",
       " 'L002-H10-CGAGGCTG-CTAAGCCT',\n",
       " 'L002-H11-AAGAGGCA-CTAAGCCT',\n",
       " 'L002-H12-GTAGAGGA-CTAAGCCT'}"
      ]
     },
     "execution_count": 13,
     "metadata": {},
     "output_type": "execute_result"
    }
   ],
   "source": [
    "r1_set"
   ]
  },
  {
   "cell_type": "markdown",
   "metadata": {},
   "source": [
    "Check the file lengths."
   ]
  },
  {
   "cell_type": "code",
   "execution_count": 15,
   "metadata": {},
   "outputs": [
    {
     "name": "stdout",
     "output_type": "stream",
     "text": [
      "106\n",
      "106\n"
     ]
    }
   ],
   "source": [
    "print(len(r1_set))\n",
    "print(len(r2_set))"
   ]
  },
  {
   "cell_type": "markdown",
   "metadata": {},
   "source": [
    "Get the filenames which are in r2 but not in r1."
   ]
  },
  {
   "cell_type": "code",
   "execution_count": 16,
   "metadata": {},
   "outputs": [
    {
     "data": {
      "text/plain": [
       "set()"
      ]
     },
     "execution_count": 16,
     "metadata": {},
     "output_type": "execute_result"
    }
   ],
   "source": [
    "r2_set.difference(r1_set)"
   ]
  },
  {
   "cell_type": "markdown",
   "metadata": {},
   "source": [
    "Get the filenames which are in r1 but not r2."
   ]
  },
  {
   "cell_type": "code",
   "execution_count": 17,
   "metadata": {},
   "outputs": [
    {
     "data": {
      "text/plain": [
       "set()"
      ]
     },
     "execution_count": 17,
     "metadata": {},
     "output_type": "execute_result"
    }
   ],
   "source": [
    "r1_set.difference(r2_set)"
   ]
  },
  {
   "cell_type": "markdown",
   "metadata": {},
   "source": [
    "There are no unmatched pairs, so I can just use the r1_ and r2_list.txt files :)"
   ]
  },
  {
   "cell_type": "markdown",
   "metadata": {},
   "source": [
    "Get the filenames which are in both r1 and r2 and store them in the variable \"paired\"."
   ]
  },
  {
   "cell_type": "code",
   "execution_count": 18,
   "metadata": {},
   "outputs": [
    {
     "name": "stdout",
     "output_type": "stream",
     "text": [
      "106\n"
     ]
    }
   ],
   "source": [
    "paired = r1_set.intersection(r2_set)\n",
    "print(len(paired))"
   ]
  },
  {
   "cell_type": "markdown",
   "metadata": {},
   "source": [
    "Output the new lists of filenames by using paired and the original file suffixes."
   ]
  },
  {
   "cell_type": "code",
   "execution_count": 40,
   "metadata": {},
   "outputs": [],
   "source": [
    "r1_out = open(file1.replace('.txt', '_pairs.txt'), 'w')\n",
    "r2_out = open(file2.replace('.txt', '_pairs.txt'), 'w')\n",
    "\n",
    "for partial_fn in sorted(paired):\n",
    "    r1_out.write(partial_fn+suffix1+'\\n')\n",
    "    r2_out.write(partial_fn+suffix2+'\\n')\n",
    "\n",
    "r1_out.close()\n",
    "r2_out.close()"
   ]
  },
  {
   "cell_type": "code",
   "execution_count": null,
   "metadata": {},
   "outputs": [],
   "source": []
  }
 ],
 "metadata": {
  "kernelspec": {
   "display_name": "Python 3",
   "language": "python",
   "name": "python3"
  },
  "language_info": {
   "codemirror_mode": {
    "name": "ipython",
    "version": 3
   },
   "file_extension": ".py",
   "mimetype": "text/x-python",
   "name": "python",
   "nbconvert_exporter": "python",
   "pygments_lexer": "ipython3",
   "version": "3.7.3"
  },
  "varInspector": {
   "cols": {
    "lenName": 16,
    "lenType": 16,
    "lenVar": 40
   },
   "kernels_config": {
    "python": {
     "delete_cmd_postfix": "",
     "delete_cmd_prefix": "del ",
     "library": "var_list.py",
     "varRefreshCmd": "print(var_dic_list())"
    },
    "r": {
     "delete_cmd_postfix": ") ",
     "delete_cmd_prefix": "rm(",
     "library": "var_list.r",
     "varRefreshCmd": "cat(var_dic_list()) "
    }
   },
   "types_to_exclude": [
    "module",
    "function",
    "builtin_function_or_method",
    "instance",
    "_Feature"
   ],
   "window_display": false
  }
 },
 "nbformat": 4,
 "nbformat_minor": 2
}
