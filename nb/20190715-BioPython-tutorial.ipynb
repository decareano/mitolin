{
 "cells": [
  {
   "cell_type": "code",
   "execution_count": 12,
   "metadata": {},
   "outputs": [],
   "source": [
    "from pathlib import Path\n",
    "import glob\n",
    "import pandas as pd\n",
    "import seaborn as sns\n",
    "from Bio import SeqIO \n",
    "from Bio import AlignIO\n",
    "from Bio import Phylo\n",
    "from Bio.Phylo.TreeConstruction import DistanceCalculator\n",
    "from Bio.Phylo.TreeConstruction import DistanceTreeConstructor"
   ]
  },
  {
   "cell_type": "code",
   "execution_count": 6,
   "metadata": {},
   "outputs": [],
   "source": [
    "datadir = 'C:/Users/Mei/Documents/DCL/data01/gen/nguyen_nc_2018/20190710-320lfastas/'"
   ]
  },
  {
   "cell_type": "markdown",
   "metadata": {},
   "source": [
    "# Reading fasta files"
   ]
  },
  {
   "cell_type": "code",
   "execution_count": 23,
   "metadata": {},
   "outputs": [
    {
     "name": "stdout",
     "output_type": "stream",
     "text": [
      "1\n",
      "Seq('GATCACAGGTCTATCACCCTATTAACCACTCACGGGAGCTCTCCATGCATTTGG...ATG', SingleLetterAlphabet())\n",
      "1 chrM:1-16571\n",
      "16579\n",
      "\n",
      "2\n",
      "Seq('NNNNNNNNNNNNNNNNNNNNNNNNNNNNNNNNNNNNNNNNNNNNNNNNNNNNNN...NNN', SingleLetterAlphabet())\n",
      "2 chr1:1-249250621\n",
      "2460\n",
      "\n"
     ]
    }
   ],
   "source": [
    "from Bio import SeqIO\n",
    "\n",
    "# Read a fasta file\n",
    "for seq_record in SeqIO.parse(datadir+'A01_L008.fasta', \"fasta\"):\n",
    "    print(seq_record.id)\n",
    "    print(repr(seq_record.seq))\n",
    "    print(seq_record.description)\n",
    "    print(len(seq_record))\n",
    "    print()"
   ]
  },
  {
   "cell_type": "code",
   "execution_count": 26,
   "metadata": {},
   "outputs": [
    {
     "name": "stdout",
     "output_type": "stream",
     "text": [
      "C:/Users/Mei/Documents/DCL/data01/gen/nguyen_nc_2018/20190710-320lfastas\\A01_L008.fasta\n",
      "C:/Users/Mei/Documents/DCL/data01/gen/nguyen_nc_2018/20190710-320lfastas\\A03_L008.fasta\n",
      "C:/Users/Mei/Documents/DCL/data01/gen/nguyen_nc_2018/20190710-320lfastas\\A04_L008.fasta\n",
      "C:/Users/Mei/Documents/DCL/data01/gen/nguyen_nc_2018/20190710-320lfastas\\A05_L008.fasta\n",
      "C:/Users/Mei/Documents/DCL/data01/gen/nguyen_nc_2018/20190710-320lfastas\\A06_L008.fasta\n",
      "C:/Users/Mei/Documents/DCL/data01/gen/nguyen_nc_2018/20190710-320lfastas\\A07_L008.fasta\n",
      "C:/Users/Mei/Documents/DCL/data01/gen/nguyen_nc_2018/20190710-320lfastas\\A09_L008.fasta\n",
      "C:/Users/Mei/Documents/DCL/data01/gen/nguyen_nc_2018/20190710-320lfastas\\A10_L008.fasta\n",
      "C:/Users/Mei/Documents/DCL/data01/gen/nguyen_nc_2018/20190710-320lfastas\\A12_L008.fasta\n"
     ]
    }
   ],
   "source": [
    "from Bio import SeqIO\n",
    "\n",
    "# Read in multiple fasta files and save only the chrM's\n",
    "labels = []\n",
    "ff = glob.glob(f\"{datadir}*.fasta\")\n",
    "fsts = []\n",
    "sequences = []\n",
    "for file in ff:\n",
    "    print(file)\n",
    "    label = file.split(\"\\\\\")[-1].split(\"_\")[0]\n",
    "    labels.append(label)\n",
    "    for record in SeqIO.parse(file, \"fasta\"):\n",
    "        fsts.append(list(str(record.seq))) \n",
    "        record.id=label;record.name=label;\n",
    "        if 'chrM' in record.description:\n",
    "            sequences.append(record)"
   ]
  },
  {
   "cell_type": "code",
   "execution_count": 27,
   "metadata": {},
   "outputs": [
    {
     "data": {
      "text/plain": [
       "['A01', 'A03', 'A04', 'A05', 'A06', 'A07', 'A09', 'A10', 'A12']"
      ]
     },
     "execution_count": 27,
     "metadata": {},
     "output_type": "execute_result"
    }
   ],
   "source": [
    "labels"
   ]
  },
  {
   "cell_type": "markdown",
   "metadata": {},
   "source": [
    "# Writing Fasta files"
   ]
  },
  {
   "cell_type": "code",
   "execution_count": 28,
   "metadata": {},
   "outputs": [
    {
     "data": {
      "text/plain": [
       "9"
      ]
     },
     "execution_count": 28,
     "metadata": {},
     "output_type": "execute_result"
    }
   ],
   "source": [
    "SeqIO.write(sequences, datadir+'A0x_L008_clean.fasta', \"fasta\")"
   ]
  },
  {
   "cell_type": "markdown",
   "metadata": {},
   "source": [
    "# Aligning Sequences"
   ]
  },
  {
   "cell_type": "markdown",
   "metadata": {},
   "source": [
    "To install MUSCLE: https://www.drive5.com/muscle/manual/index.html"
   ]
  },
  {
   "cell_type": "markdown",
   "metadata": {},
   "source": [
    "Run MUSCLE in a command line:\n",
    "<pre>muscle3.8.31_i86win32.exe -in ..\\data01\\gen\\nguyen_nc_2018\\20190710-320lfastas\\A0x_L008_clean.fasta -out ..\\data01\\gen\\nguyen_nc_2018\\20190710-320lfastas\\A0x_L008_clean.faa</pre>\n",
    "\n",
    "This will take a while for long/many sequences.\n",
    "\n",
    "It's possible to use stdin and stdout with MUSCLE and avoid a temporary alignment file but I wouldn't recommend that for long or multiple sequences."
   ]
  },
  {
   "cell_type": "markdown",
   "metadata": {},
   "source": [
    "# Reading Alignments"
   ]
  },
  {
   "cell_type": "code",
   "execution_count": 7,
   "metadata": {},
   "outputs": [
    {
     "name": "stdout",
     "output_type": "stream",
     "text": [
      "SingleLetterAlphabet() alignment with 9 rows and 17006 columns\n",
      "GATCACAGGTCTATCACCCTATTAACCACTCACGGGAGCTCTCC...ATG A06\n",
      "GATCACAGGTCTATCACCCTATTAACCACTCACGGGAGCTCTCC...ATG A07\n",
      "GATCACAGGTCTATCACCCTATTAACCACTCACGGGAGCTCTCC...ATG A12\n",
      "GATCACAGGTCTATCACCCTATTAACCACTCACGGGAGCTCTCC...ATG A04\n",
      "GATCACAGGTCTATCACCCTATTAACCACTCACGGGAGCTCTCC...ATG A05\n",
      "GATCACAGGTCTATCACCCTATTAACCACTCACGGGAGCTCTCC...ATG A03\n",
      "GATCACAGGTCTATCACCCTATTAACCACTCACGGGAGCTCTCC...ATG A10\n",
      "GATCACAGGTCTATCACCCTATTAACCACTCACGGGAGCTCTCC...ATG A01\n",
      "GATCACAGGTCTATCACCCTATTAACCACTCACGGGAGCTCTCC...ATG A09\n"
     ]
    }
   ],
   "source": [
    "from Bio import AlignIO\n",
    "\n",
    "# read in the alignments\n",
    "alignments = AlignIO.read(datadir+'A0x_L008_clean.faa', 'fasta')\n",
    "print(alignments)"
   ]
  },
  {
   "cell_type": "markdown",
   "metadata": {},
   "source": [
    "# Calculating distance using BioPython"
   ]
  },
  {
   "cell_type": "markdown",
   "metadata": {},
   "source": [
    "BioPython Phylo documention: https://biopython.org/wiki/Phylo"
   ]
  },
  {
   "cell_type": "code",
   "execution_count": 2,
   "metadata": {},
   "outputs": [],
   "source": [
    "from Bio.Phylo.TreeConstruction import DistanceCalculator"
   ]
  },
  {
   "cell_type": "code",
   "execution_count": 3,
   "metadata": {},
   "outputs": [
    {
     "data": {
      "text/plain": [
       "['blastn', 'trans']"
      ]
     },
     "execution_count": 3,
     "metadata": {},
     "output_type": "execute_result"
    }
   ],
   "source": [
    "DistanceCalculator.dna_models"
   ]
  },
  {
   "cell_type": "code",
   "execution_count": 10,
   "metadata": {},
   "outputs": [
    {
     "name": "stdout",
     "output_type": "stream",
     "text": [
      "A06\t0\n",
      "A07\t0.02241389783150094\t0\n",
      "A12\t0.022602365787079193\t0.021440291704649006\t0\n",
      "A04\t0.021276595744680882\t0.021880508114021757\t0.020874316939890725\t0\n",
      "A05\t0.021357225013620695\t0.020311836437541753\t0.020623181377303568\t0.020842679599878733\t0\n",
      "A03\t0.020489222572051324\t0.020970873786407718\t0.02096451319381254\t0.020082464225078867\t0.020274934899775943\t0\n",
      "A10\t0.02073355562291601\t0.02033404190707566\t0.020547695670653954\t0.020418562329390322\t0.019312602291325698\t0.019628036590537357\t0\n",
      "A01\t0.01806857350184432\t0.01879895561357703\t0.017907188353048276\t0.01734019993941227\t0.01775491679273833\t0.01743763623153305\t0.01766951463370292\t0\n",
      "A09\t0.01230490018148822\t0.011894513488935998\t0.011890909090909063\t0.011660007264801986\t0.011217328170377572\t0.010995524374017185\t0.010786924939467313\t0.007947260191121353\t0\n",
      "\tA06\tA07\tA12\tA04\tA05\tA03\tA10\tA01\tA09\n"
     ]
    }
   ],
   "source": [
    "# calculate the distances\n",
    "calculator = DistanceCalculator('blastn') # default model is 'identity'\n",
    "distance = calculator.get_distance(alignments)\n",
    "print(distance)"
   ]
  },
  {
   "cell_type": "code",
   "execution_count": 35,
   "metadata": {},
   "outputs": [
    {
     "data": {
      "text/plain": [
       "['A06', 'A07', 'A12', 'A04', 'A05', 'A03', 'A10', 'A01', 'A09']"
      ]
     },
     "execution_count": 35,
     "metadata": {},
     "output_type": "execute_result"
    }
   ],
   "source": [
    "distance.names"
   ]
  },
  {
   "cell_type": "code",
   "execution_count": 13,
   "metadata": {},
   "outputs": [
    {
     "data": {
      "image/png": "[encoded data removed]",
      "text/plain": [
       "<Figure size 432x288 with 2 Axes>"
      ]
     },
     "metadata": {
      "needs_background": "light"
     },
     "output_type": "display_data"
    }
   ],
   "source": [
    "sns.heatmap(distance, xticklabels=distance.names, yticklabels=distance.names);"
   ]
  },
  {
   "cell_type": "markdown",
   "metadata": {},
   "source": [
    "# Heirarchical Clustering"
   ]
  },
  {
   "cell_type": "code",
   "execution_count": 15,
   "metadata": {},
   "outputs": [],
   "source": [
    "from Bio.Phylo.TreeConstruction import DistanceTreeConstructor\n",
    "from Bio import Phylo"
   ]
  },
  {
   "cell_type": "code",
   "execution_count": 38,
   "metadata": {},
   "outputs": [],
   "source": [
    "# nj = Neighbor Joining\n",
    "# UPGMA = Unweighted Pair Group Method with Arithmetic Mean\n",
    "tree_identity = DistanceTreeConstructor(DistanceCalculator('identity'), \"nj\").build_tree(alignments)"
   ]
  },
  {
   "cell_type": "markdown",
   "metadata": {},
   "source": [
    "https://en.wikipedia.org/wiki/Distance_matrices_in_phylogeny"
   ]
  },
  {
   "cell_type": "code",
   "execution_count": 34,
   "metadata": {},
   "outputs": [
    {
     "data": {
      "image/png": "[encoded data removed]",
      "text/plain": [
       "<Figure size 432x288 with 1 Axes>"
      ]
     },
     "metadata": {
      "needs_background": "light"
     },
     "output_type": "display_data"
    }
   ],
   "source": [
    "#Phylo.draw_ascii(tree_identity)\n",
    "Phylo.draw(tree_identity)"
   ]
  },
  {
   "cell_type": "code",
   "execution_count": null,
   "metadata": {},
   "outputs": [],
   "source": [
    "tree_blastn = DistanceTreeConstructor(DistanceCalculator('blastn'), \"nj\").build_tree(alignments)"
   ]
  },
  {
   "cell_type": "code",
   "execution_count": 35,
   "metadata": {},
   "outputs": [
    {
     "data": {
      "image/png": "[encoded data removed]",
      "text/plain": [
       "<Figure size 432x288 with 1 Axes>"
      ]
     },
     "metadata": {
      "needs_background": "light"
     },
     "output_type": "display_data"
    }
   ],
   "source": [
    "#Phylo.draw_ascii(tree_blastn)\n",
    "Phylo.draw(tree_blastn)"
   ]
  },
  {
   "cell_type": "code",
   "execution_count": null,
   "metadata": {},
   "outputs": [],
   "source": [
    "tree_trans = DistanceTreeConstructor(DistanceCalculator('trans'), \"nj\").build_tree(alignments)"
   ]
  },
  {
   "cell_type": "code",
   "execution_count": 36,
   "metadata": {},
   "outputs": [
    {
     "data": {
      "image/png": "[encoded data removed]",
      "text/plain": [
       "<Figure size 432x288 with 1 Axes>"
      ]
     },
     "metadata": {
      "needs_background": "light"
     },
     "output_type": "display_data"
    }
   ],
   "source": [
    "#Phylo.draw_ascii(tree_trans)\n",
    "Phylo.draw(tree_trans)"
   ]
  },
  {
   "cell_type": "markdown",
   "metadata": {},
   "source": [
    "\n"
   ]
  }
 ],
 "metadata": {
  "kernelspec": {
   "display_name": "Python 3",
   "language": "python",
   "name": "python3"
  },
  "language_info": {
   "codemirror_mode": {
    "name": "ipython",
    "version": 3
   },
   "file_extension": ".py",
   "mimetype": "text/x-python",
   "name": "python",
   "nbconvert_exporter": "python",
   "pygments_lexer": "ipython3",
   "version": "3.7.3"
  }
 },
 "nbformat": 4,
 "nbformat_minor": 2
}
