{
 "cells": [
  {
   "cell_type": "markdown",
   "metadata": {},
   "source": [
    "# Scoring Matrices"
   ]
  },
  {
   "cell_type": "code",
   "execution_count": 1,
   "metadata": {},
   "outputs": [
    {
     "name": "stdout",
     "output_type": "stream",
     "text": [
      "SingleLetterAlphabet() alignment with 5 rows and 13 columns\n",
      "AACGTGGCCACAT Alpha\n",
      "AAGGTCGCCACAC Beta\n",
      "CAGTTCGCCACAA Gamma\n",
      "GAGATTTCCGCCT Delta\n",
      "GAGATCTCCGCCC Epsilon\n"
     ]
    }
   ],
   "source": [
    "from Bio import AlignIO\n",
    "\n",
    "# read in alignments\n",
    "alignments = AlignIO.read('msa.phy', 'phylip')\n",
    "print(alignments)"
   ]
  },
  {
   "cell_type": "code",
   "execution_count": 2,
   "metadata": {},
   "outputs": [],
   "source": [
    "from Bio.Phylo.TreeConstruction import DistanceCalculator"
   ]
  },
  {
   "cell_type": "code",
   "execution_count": 3,
   "metadata": {},
   "outputs": [
    {
     "data": {
      "text/plain": [
       "['blastn', 'trans']"
      ]
     },
     "execution_count": 3,
     "metadata": {},
     "output_type": "execute_result"
    }
   ],
   "source": [
    "DistanceCalculator.dna_models"
   ]
  },
  {
   "cell_type": "code",
   "execution_count": 4,
   "metadata": {},
   "outputs": [
    {
     "name": "stdout",
     "output_type": "stream",
     "text": [
      "Alpha\t0\n",
      "Beta\t0.23076923076923073\t0\n",
      "Gamma\t0.3846153846153846\t0.23076923076923073\t0\n",
      "Delta\t0.5384615384615384\t0.5384615384615384\t0.5384615384615384\t0\n",
      "Epsilon\t0.6153846153846154\t0.3846153846153846\t0.46153846153846156\t0.15384615384615385\t0\n",
      "\tAlpha\tBeta\tGamma\tDelta\tEpsilon\n"
     ]
    }
   ],
   "source": [
    "# calculate the distances\n",
    "calculator = DistanceCalculator('identity')\n",
    "distance = calculator.get_distance(alignments)\n",
    "print(distance)"
   ]
  },
  {
   "cell_type": "code",
   "execution_count": 5,
   "metadata": {},
   "outputs": [
    {
     "name": "stdout",
     "output_type": "stream",
     "text": [
      "AACGTGGCCACAT\n",
      "AAGGTCGCCACAC\n"
     ]
    }
   ],
   "source": [
    "s1 = str(alignments[0].seq)\n",
    "s2 = str(alignments[1].seq)\n",
    "print(s1)\n",
    "print(s2)"
   ]
  },
  {
   "cell_type": "markdown",
   "metadata": {},
   "source": [
    "## Identity matrix (Hamming distance)"
   ]
  },
  {
   "cell_type": "code",
   "execution_count": 6,
   "metadata": {},
   "outputs": [],
   "source": [
    "def hamming_distance(s1, s2):\n",
    "    sum = 0\n",
    "    for el1, el2 in zip(s1, s2):\n",
    "        sum += (el1 != el2)\n",
    "        \n",
    "    score = sum / len(s1)\n",
    "    return score"
   ]
  },
  {
   "cell_type": "code",
   "execution_count": 7,
   "metadata": {},
   "outputs": [
    {
     "data": {
      "text/plain": [
       "0.23076923076923078"
      ]
     },
     "execution_count": 7,
     "metadata": {},
     "output_type": "execute_result"
    }
   ],
   "source": [
    "hamming_distance(s1, s2)"
   ]
  },
  {
   "cell_type": "markdown",
   "metadata": {},
   "source": [
    "## Blast matrix"
   ]
  },
  {
   "cell_type": "code",
   "execution_count": 8,
   "metadata": {},
   "outputs": [
    {
     "name": "stdout",
     "output_type": "stream",
     "text": [
      "Alpha\t0\n",
      "Beta\t0.41538461538461535\t0\n",
      "Gamma\t0.6923076923076923\t0.41538461538461535\t0\n",
      "Delta\t0.9692307692307692\t0.9692307692307692\t0.9692307692307692\t0\n",
      "Epsilon\t1.1076923076923078\t0.6923076923076923\t0.8307692307692307\t0.27692307692307694\t0\n",
      "\tAlpha\tBeta\tGamma\tDelta\tEpsilon\n"
     ]
    }
   ],
   "source": [
    "calculator = DistanceCalculator('blastn')\n",
    "distance = calculator.get_distance(alignments)\n",
    "print(distance)"
   ]
  },
  {
   "cell_type": "code",
   "execution_count": 9,
   "metadata": {},
   "outputs": [
    {
     "data": {
      "text/plain": [
       "['A', 'T', 'C', 'G']"
      ]
     },
     "execution_count": 9,
     "metadata": {},
     "output_type": "execute_result"
    }
   ],
   "source": [
    "calculator.dna_alphabet"
   ]
  },
  {
   "cell_type": "code",
   "execution_count": 10,
   "metadata": {},
   "outputs": [
    {
     "name": "stdout",
     "output_type": "stream",
     "text": [
      "[[5], [-4, 5], [-4, -4, 5], [-4, -4, -4, 5]]\n"
     ]
    }
   ],
   "source": [
    "print(calculator.dna_matrices[\"blastn\"])"
   ]
  },
  {
   "cell_type": "code",
   "execution_count": 11,
   "metadata": {},
   "outputs": [
    {
     "data": {
      "text/plain": [
       "('-', '*')"
      ]
     },
     "execution_count": 11,
     "metadata": {},
     "output_type": "execute_result"
    }
   ],
   "source": [
    "calculator.skip_letters"
   ]
  },
  {
   "cell_type": "markdown",
   "metadata": {},
   "source": [
    "+5 for a match, -4 for a mismatch, 0 for a gap"
   ]
  },
  {
   "cell_type": "code",
   "execution_count": 12,
   "metadata": {},
   "outputs": [],
   "source": [
    "def get_distance(seq1, seq2, matrix, skip_letters):\n",
    "    # Returns a value between 0 (identical sequences) and 1 (completely \n",
    "    #    different, or seq1 is an empty string.)\"\"\"\n",
    "    \n",
    "    score = 0\n",
    "    max_score = 0\n",
    "    for i in range(0, len(seq1)):\n",
    "        l1 = seq1[i] \n",
    "        l2 = seq2[i] \n",
    "        \n",
    "        if l1 in skip_letters or l2 in skip_letters: \n",
    "            continue\n",
    "        \n",
    "        score += matrix[l1, l2]\n",
    "        max_score += matrix[l1, l1]\n",
    "    \n",
    "    print(score)\n",
    "    print(max_score)\n",
    "    return 1 - (score / max_score)    "
   ]
  },
  {
   "cell_type": "code",
   "execution_count": 13,
   "metadata": {},
   "outputs": [
    {
     "name": "stdout",
     "output_type": "stream",
     "text": [
      "AACGTGGCCACAT\n",
      "AAGGTCGCCACAC\n"
     ]
    }
   ],
   "source": [
    "print(s1)\n",
    "print(s2)"
   ]
  },
  {
   "cell_type": "code",
   "execution_count": 14,
   "metadata": {},
   "outputs": [
    {
     "name": "stdout",
     "output_type": "stream",
     "text": [
      "38\n",
      "65\n"
     ]
    },
    {
     "data": {
      "text/plain": [
       "0.41538461538461535"
      ]
     },
     "execution_count": 14,
     "metadata": {},
     "output_type": "execute_result"
    }
   ],
   "source": [
    "from Bio.Phylo.TreeConstruction import _Matrix\n",
    "\n",
    "matrix = _Matrix(calculator.dna_alphabet, calculator.dna_matrices['blastn']) \n",
    "get_distance(s1, s2, matrix, calculator.skip_letters)"
   ]
  },
  {
   "cell_type": "markdown",
   "metadata": {},
   "source": [
    "## Transition Transversion Matrix"
   ]
  },
  {
   "cell_type": "markdown",
   "metadata": {},
   "source": [
    "Paraphrased from https://en.wikipedia.org/wiki/Substitution_matrix\n",
    "\n",
    "\"Transition\" is used to indicate substitutions that are between the two-ring purines (A → G and G → A) or are between the one-ring pyrimidines (C → T and T → C)<br>\n",
    "\n",
    "\"Transversion\" is the term used to indicate the slower-rate substitutions that change a purine to a pyrimidine or vice versa (A ↔ C, A ↔ T, G ↔ C, and G ↔ T)"
   ]
  },
  {
   "cell_type": "code",
   "execution_count": 15,
   "metadata": {},
   "outputs": [
    {
     "name": "stdout",
     "output_type": "stream",
     "text": [
      "Alpha\t0\n",
      "Beta\t0.3717948717948718\t0\n",
      "Gamma\t0.7051282051282051\t0.42307692307692313\t0\n",
      "Delta\t0.8333333333333334\t0.7307692307692308\t0.8846153846153846\t0\n",
      "Epsilon\t0.9230769230769231\t0.5512820512820513\t0.7948717948717949\t0.17948717948717952\t0\n",
      "\tAlpha\tBeta\tGamma\tDelta\tEpsilon\n"
     ]
    }
   ],
   "source": [
    "calculator = DistanceCalculator('trans')\n",
    "distance = calculator.get_distance(alignments)\n",
    "print(distance)"
   ]
  },
  {
   "cell_type": "code",
   "execution_count": 16,
   "metadata": {},
   "outputs": [
    {
     "name": "stdout",
     "output_type": "stream",
     "text": [
      "[[6], [-5, 6], [-5, -1, 6], [-1, -5, -5, 6]]\n"
     ]
    }
   ],
   "source": [
    "print(calculator.dna_matrices[\"trans\"])"
   ]
  },
  {
   "cell_type": "code",
   "execution_count": 17,
   "metadata": {},
   "outputs": [
    {
     "data": {
      "text/plain": [
       "('-', '*')"
      ]
     },
     "execution_count": 17,
     "metadata": {},
     "output_type": "execute_result"
    }
   ],
   "source": [
    "calculator.skip_letters"
   ]
  },
  {
   "cell_type": "markdown",
   "metadata": {},
   "source": [
    "+6 for a match, -5 for a transversion, -1 for a transition, 0 for a gap"
   ]
  },
  {
   "cell_type": "code",
   "execution_count": 18,
   "metadata": {},
   "outputs": [
    {
     "name": "stdout",
     "output_type": "stream",
     "text": [
      "AACGTGGCCACAT\n",
      "AAGGTCGCCACAC\n"
     ]
    }
   ],
   "source": [
    "print(s1)\n",
    "print(s2)"
   ]
  },
  {
   "cell_type": "code",
   "execution_count": 19,
   "metadata": {},
   "outputs": [
    {
     "name": "stdout",
     "output_type": "stream",
     "text": [
      "49\n",
      "78\n"
     ]
    },
    {
     "data": {
      "text/plain": [
       "0.3717948717948718"
      ]
     },
     "execution_count": 19,
     "metadata": {},
     "output_type": "execute_result"
    }
   ],
   "source": [
    "matrix = _Matrix(calculator.dna_alphabet, calculator.dna_matrices['trans']) \n",
    "get_distance(s1, s2, matrix, calculator.skip_letters)"
   ]
  }
 ],
 "metadata": {
  "kernelspec": {
   "display_name": "Python 3",
   "language": "python",
   "name": "python3"
  },
  "language_info": {
   "codemirror_mode": {
    "name": "ipython",
    "version": 3
   },
   "file_extension": ".py",
   "mimetype": "text/x-python",
   "name": "python",
   "nbconvert_exporter": "python",
   "pygments_lexer": "ipython3",
   "version": "3.6.8"
  }
 },
 "nbformat": 4,
 "nbformat_minor": 2
}
